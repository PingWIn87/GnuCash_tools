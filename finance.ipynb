{
 "metadata": {
  "language_info": {
   "codemirror_mode": {
    "name": "ipython",
    "version": 3
   },
   "file_extension": ".py",
   "mimetype": "text/x-python",
   "name": "python",
   "nbconvert_exporter": "python",
   "pygments_lexer": "ipython3",
   "version": "3.8.3-final"
  },
  "orig_nbformat": 2,
  "kernelspec": {
   "name": "python_defaultSpec_1600847032285",
   "display_name": "Python 3.8.3 64-bit ('base': conda)"
  }
 },
 "nbformat": 4,
 "nbformat_minor": 2,
 "cells": [
  {
   "source": [
    "import sqlite3\n",
    "import pprint\n",
    "import numpy as np\n",
    "import matplotlib as mpl\n",
    "import matplotlib.pyplot as plt\n",
    "import pandas as pd\n",
    "import seaborn as sns\n",
    "from os import path\n",
    "\n",
    "db = sqlite3.connect(path.normpath('D:\\\\temp\\\\hf.gnucash'))\n",
    "cursor = db.cursor()\n",
    "# start_date = input()\n",
    "start_date = '2020-01-01'\n",
    "end_date = '2020-10-01'\n",
    "query = \"\"\"\n",
    "SELECT substr(t.enter_date, 0, 11) AS date,\n",
    "       a.name AS category,\n",
    "      (s.value_num / 100.0) AS value\n",
    "  FROM accounts a,\n",
    "       splits s,\n",
    "       transactions t\n",
    " WHERE s.account_guid = a.guid AND \n",
    "       s.tx_guid = t.guid AND \n",
    "       a.account_type = 'EXPENSE' AND \n",
    "       strftime('%Y-%m-%d', substr(t.enter_date, 0, 11) ) >= strftime('%Y-%m-%d', '{0}') AND\n",
    "       strftime('%Y-%m-%d', substr(t.enter_date, 0, 11) ) < strftime('%Y-%m-%d', '{1}')\n",
    " ORDER BY date;\n",
    "\"\"\".format(start_date, end_date)\n",
    "cursor.execute(query)\n",
    "data = cursor.fetchall()"
   ],
   "cell_type": "code",
   "metadata": {
    "tags": []
   },
   "execution_count": null,
   "outputs": []
  },
  {
   "cell_type": "code",
   "execution_count": null,
   "metadata": {},
   "outputs": [],
   "source": [
    "df = pd.DataFrame(data, columns=['Date', 'Category', 'Value'])\n",
    "# df = df.convert_objects(convert_numeric=True)\n",
    "df = df.astype({'Value':'float64', 'Category':'string'})\n",
    "df['Date'] = pd.to_datetime(df['Date'], format='%Y-%m-%d')\n",
    "pt = df.pivot_table('Value', index='Category', columns='Date', fill_value=0, aggfunc=np.sum)\n",
    "pt = pt.resample('w', axis=1).sum()"
   ]
  },
  {
   "cell_type": "code",
   "execution_count": null,
   "metadata": {},
   "outputs": [],
   "source": [
    "\n",
    "pd.options.display.float_format = '{:.2f}'.format\n",
    "pt['Average'] = pt.mean(axis=1)\n",
    "pt.loc['Total']= pt.sum() \n",
    "pt"
   ]
  },
  {
   "cell_type": "code",
   "execution_count": null,
   "metadata": {
    "tags": []
   },
   "outputs": [],
   "source": [
    "tt = pt\n",
    "tt = tt.drop(columns=['Average'])\n",
    "tt = tt.drop(['Total'])\n",
    "tt = pt.T\n",
    "tt.plot(kind='area', logx=True, stacked=True, figsize=(40,30))\n"
   ]
  },
  {
   "cell_type": "code",
   "execution_count": null,
   "metadata": {},
   "outputs": [],
   "source": []
  }
 ]
}